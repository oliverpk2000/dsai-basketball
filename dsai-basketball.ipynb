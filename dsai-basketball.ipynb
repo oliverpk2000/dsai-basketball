{
 "cells": [
  {
   "cell_type": "markdown",
   "source": [
    "# DSAI-Basketball\n",
    "jupyter notebook to analyze a dataset of nba basketball players statistics"
   ],
   "metadata": {
    "collapsed": false
   },
   "id": "e170a466f0b05e85"
  },
  {
   "cell_type": "code",
   "execution_count": 2,
   "outputs": [
    {
     "data": {
      "text/plain": "        Rk        Player Pos  Age   Tm   G  GS    MP   FG  FGA  ...  DRB  TRB  \\\n13232  127  Gorgui Dieng   C   31  MEM  22   1  16.9  2.5  4.9  ...  3.2  4.5   \n\n       AST  STL  BLK  TOV   PF  PTS   Season    MVP  \n13232  1.3  0.8  0.6  1.0  1.7  7.9  2020-21  False  \n\n[1 rows x 32 columns]",
      "text/html": "<div>\n<style scoped>\n    .dataframe tbody tr th:only-of-type {\n        vertical-align: middle;\n    }\n\n    .dataframe tbody tr th {\n        vertical-align: top;\n    }\n\n    .dataframe thead th {\n        text-align: right;\n    }\n</style>\n<table border=\"1\" class=\"dataframe\">\n  <thead>\n    <tr style=\"text-align: right;\">\n      <th></th>\n      <th>Rk</th>\n      <th>Player</th>\n      <th>Pos</th>\n      <th>Age</th>\n      <th>Tm</th>\n      <th>G</th>\n      <th>GS</th>\n      <th>MP</th>\n      <th>FG</th>\n      <th>FGA</th>\n      <th>...</th>\n      <th>DRB</th>\n      <th>TRB</th>\n      <th>AST</th>\n      <th>STL</th>\n      <th>BLK</th>\n      <th>TOV</th>\n      <th>PF</th>\n      <th>PTS</th>\n      <th>Season</th>\n      <th>MVP</th>\n    </tr>\n  </thead>\n  <tbody>\n    <tr>\n      <th>13232</th>\n      <td>127</td>\n      <td>Gorgui Dieng</td>\n      <td>C</td>\n      <td>31</td>\n      <td>MEM</td>\n      <td>22</td>\n      <td>1</td>\n      <td>16.9</td>\n      <td>2.5</td>\n      <td>4.9</td>\n      <td>...</td>\n      <td>3.2</td>\n      <td>4.5</td>\n      <td>1.3</td>\n      <td>0.8</td>\n      <td>0.6</td>\n      <td>1.0</td>\n      <td>1.7</td>\n      <td>7.9</td>\n      <td>2020-21</td>\n      <td>False</td>\n    </tr>\n  </tbody>\n</table>\n<p>1 rows × 32 columns</p>\n</div>"
     },
     "execution_count": 2,
     "metadata": {},
     "output_type": "execute_result"
    }
   ],
   "source": [
    "import pandas as pd\n",
    "import seaborn as sns\n",
    "import matplotlib.pyplot as plt\n",
    "\n",
    "plt.rcParams['figure.figsize'] = (10, 8)\n",
    "\n",
    "basketball = pd.read_csv(\"./data/NBA_Player_Stats_2.csv\", na_values=['Not Provided'])\n",
    "basketball.sample()"
   ],
   "metadata": {
    "collapsed": false,
    "ExecuteTime": {
     "end_time": "2023-12-01T08:49:55.217422700Z",
     "start_time": "2023-12-01T08:49:54.836470Z"
    }
   },
   "id": "8920db5ae296b459"
  },
  {
   "cell_type": "code",
   "execution_count": null,
   "outputs": [],
   "source": [
    "df = pd.DataFrame(data=basketball)"
   ],
   "metadata": {
    "collapsed": false
   },
   "id": "c2a96152873b8880"
  }
 ],
 "metadata": {
  "kernelspec": {
   "display_name": "Python 3",
   "language": "python",
   "name": "python3"
  },
  "language_info": {
   "codemirror_mode": {
    "name": "ipython",
    "version": 2
   },
   "file_extension": ".py",
   "mimetype": "text/x-python",
   "name": "python",
   "nbconvert_exporter": "python",
   "pygments_lexer": "ipython2",
   "version": "2.7.6"
  }
 },
 "nbformat": 4,
 "nbformat_minor": 5
}
